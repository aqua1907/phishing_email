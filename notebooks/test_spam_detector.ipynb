{
 "cells": [
  {
   "cell_type": "code",
   "execution_count": 5,
   "metadata": {},
   "outputs": [],
   "source": [
    "from utils.utils import *\n",
    "import utils.config as cfg\n",
    "from tensorflow.keras import models\n",
    "import pickle\n",
    "\n",
    "model = models.load_model(cfg.spam_detector_path)\n",
    "# Load tokenizer\n",
    "tokenizer = pickle.load(open(cfg.tokenizer_path, 'rb'))"
   ]
  },
  {
   "cell_type": "code",
   "execution_count": 6,
   "metadata": {
    "pycharm": {
     "is_executing": false
    }
   },
   "outputs": [],
   "source": [
    "spam = \"\"\"Hello!\n",
    "\n",
    "I am a hacker who has access to your operating system.\n",
    "I also have full access to your account.\n",
    "\n",
    "I've been watching you for a few months now.\n",
    "The fact is that you were infected with malware through an adult site that you visited.\n",
    "\n",
    "If you are not familiar with this, I will explain.\n",
    "Trojan Virus gives me full access and control over a computer or other device.\n",
    "This means that I can see everything on your screen, turn on the camera and microphone, but you do not know about it.\n",
    "\n",
    "I also have access to all your contacts and all your correspondence.\n",
    "\n",
    "Why your antivirus did not detect malware?\n",
    "Answer: My malware uses the driver, I update its signatures every 4 hours so that your antivirus is silent.\n",
    "\n",
    "I made a video showing how you satisfy yourself in the left half of the screen, and in the right half you see the video that you watched.\n",
    "With one click of the mouse, I can send this video to all your emails and contacts on social networks.\n",
    "I can also post access to all your e-mail correspondence and messengers that you use.\n",
    "\n",
    "If you want to prevent this,\n",
    "transfer the amount of $500 to my bitcoin address (if you do not know how to do this, write to Google: \"Buy Bitcoin\").\n",
    "\n",
    "My bitcoin address (BTC Wallet) is:  15gyQqNaV7n6befX6gTvn1LHR8GQBPUc2A\n",
    "\n",
    "After receiving the payment, I will delete the video and you will never hear me again.\n",
    "I give you 50 hours (more than 2 days) to pay.\n",
    "I have a notice reading this letter, and the timer will work when you see this letter.\n",
    "\n",
    "Filing a complaint somewhere does not make sense because this email cannot be tracked like my bitcoin address.\n",
    "I do not make any mistakes.\n",
    "\n",
    "If I find that you have shared this message with someone else, the video will be immediately distributed.\n",
    "\n",
    "Best regards!\"\"\""
   ]
  },
  {
   "cell_type": "code",
   "execution_count": 8,
   "metadata": {
    "pycharm": {
     "is_executing": false
    }
   },
   "outputs": [
    {
     "data": {
      "text/plain": [
       "0.99999964"
      ]
     },
     "execution_count": 8,
     "metadata": {},
     "output_type": "execute_result"
    }
   ],
   "source": [
    "pred = predict_spam(spam, model , tokenizer)\n",
    "pred"
   ]
  },
  {
   "cell_type": "code",
   "execution_count": 9,
   "metadata": {
    "pycharm": {
     "is_executing": false
    }
   },
   "outputs": [],
   "source": [
    "spam = \"\"\"IT TRAINING TUITION SCHOLARSHIPS FOR COLLEGE FACULTY, STUDENTS AND STAFF\n",
    "\n",
    "National Education Foundation CyberLearning, a non-profit organization\n",
    "dedicated to bridging the Digital Divide since 1994, is offering \"No Excuse\"\n",
    "tuition-free on-line training in Information Technology to the first 10,000\n",
    "applicants. \n",
    "\n",
    "NEF CyberLearning courses, sponsored by the U.S. DEPARTMENT OF COMMERCE in\n",
    "the Federal Learning Exchange, have recently been acclaimed as \n",
    "\"the Best of the Web\" in online IT training by the FORBES magazine.  \n",
    "Two online course programs are available:\n",
    "\n",
    "1) Personal Computing (300+ self-study and instructor-led courses including\n",
    "all Microsoft Office, Web Design, Lotus Notes, Internet etc, tuition value\n",
    "of $3,000) for a $75 registration fee, the only cost.\n",
    "\n",
    "2)   Information Technology (650+ self-study and instructor-led courses,\n",
    "including the above and 350+ Certification courses in Microsoft, Cisco,\n",
    "Oracle, Novell, Web Master etc, tuition value of $6,500) for a $270\n",
    "registration fee, the only cost.\n",
    "\n",
    "For either program, registration is valid through June 30, 2001 and there\n",
    "are no tuition costs for classes.  The registrant receives free unlimited\n",
    "access to the courses, a vast online library, chat areas, certification\n",
    "skill tests and evaluations. This is an exceptional value and a great way for\n",
    "anyone to upgrade IT skills and learn new skills.\n",
    "\n",
    "To sign up, visit www.cyberlearning.org and click on\n",
    "\"PC Scholarships(300+ Courses)\" or click on \"IT Scholarships (650+\n",
    "Courses).\" Then, complete the \"Teachers and Others in Education\" application.\n",
    "Manycolleges, schools and other educational organizations reimburse the\n",
    "training registration fee. Over 5,000 educators, faculty and students\n",
    "have already registered.\n",
    "\n",
    "To bridge the Digital Divide, NEF also provides \"No Excuse\" IT training\n",
    "scholarships to disadvantaged school and college students and teachers\n",
    "throughout the Nation.\n",
    "\n",
    "Please forward this information to all interested colleagues and others in\n",
    "education, colleges, universities and schools.\n",
    "\n",
    " To unsubscribe, please reply with \"unsubscibe\" in the subject line.\n",
    "\n",
    "\n",
    "\n",
    "About NEF: The non-profit National Education Foundation CyberLearning has\n",
    "provided tuition-free IT training to thousands of students, teachers,\n",
    "government and non-profit employees and disadvantaged individuals since\n",
    "1994.\n",
    "\n",
    "NEF is well on its way to training 100,000 IT professionals and a million\n",
    "disadvantaged students nationally through its \"No Excuse\" IT Training\n",
    "Program. NEF has earned many distinctions including \"The Ivy League of IT\n",
    "Training,\" \"1995 Fairfax Human Rights Award,\" and \" A Leader in Bridging\n",
    "the Digital Divide.\"\n",
    "\n",
    "\"You are helping to empower America. I salute you for your ongoing\n",
    "commitment to creating a better America,\" --- President Clinton\n",
    "\n",
    "\"Congratulations on a wonderful program,\" --- Congressional Leader\n",
    " Tom Davis(R-VA)\n",
    "\n",
    "\"This is an awesome opportunity. You are making a difference.\"--\n",
    "Washingtonjobs.com\n",
    "\n",
    "\"NEF can make a positive  difference in the lives of a great number of\n",
    "individuals.\" --- Microsoft\n",
    "\n",
    "\" The best online IT training program I have come across. I am using it to\n",
    "train my students in IT certification,\" --- Doug Bertain, Palo Alto High\n",
    "School IT Teacher\n",
    "\n",
    "\" I just want to say thank you on behalf of the many people that benefit\n",
    "from your incredible benevolence.\"\n",
    "--- Lilia Nunez, a registrant and a Digital Divide program beneficiary\n",
    "\n",
    "\"I have found the CyberLearning online courses to be extremely easy and\n",
    "useful. I liked pre-course self-assessment and IT books online and available\n",
    "24/7. The course screens were interactive and made me feel as if I was in\n",
    "the application itself. The site looks and feels very professional. The list of\n",
    "courses is huge. It includes something for almost everyone. I find this to\n",
    "be a very worthy cause.\"\n",
    "--- Ken Horowitz, IT Training Coordinator\"\"\""
   ]
  },
  {
   "cell_type": "code",
   "execution_count": 10,
   "metadata": {
    "pycharm": {
     "is_executing": false
    }
   },
   "outputs": [
    {
     "data": {
      "text/plain": [
       "0.999676"
      ]
     },
     "execution_count": 10,
     "metadata": {},
     "output_type": "execute_result"
    }
   ],
   "source": [
    "pred = predict_spam(spam, model , tokenizer)\n",
    "pred"
   ]
  },
  {
   "cell_type": "code",
   "execution_count": 11,
   "metadata": {
    "pycharm": {
     "is_executing": false
    }
   },
   "outputs": [],
   "source": [
    "not_spam = \"\"\"Subject: presentation on metals  - - - - - - - - - - - - - - - - - - - - - - forwarded by leann walton / na / enron on 10 / 26 / 2000 10 : 52  am - - - - - - - - - - - - - - - - - - - - - -\n",
    "- - - - -  alison sealy on 10 / 09 / 2000 10 : 37 : 40 am  to : mraymon @ enron . com  cc :  subject : presentation on metals  hi maureen ,  it was good to meet you last week and hear \n",
    "your presentation on the metals -  full of advice on what to think about and all the various things that affect  the market place . i am only sorry i had to dash off \n",
    "to the airport - good  job i left when i did though as check - in took ages !  anyway , please could you send me through a copy of that presentation either  on email \n",
    "or if it is located on the network somewhere then i could access it  over the intranet ? i will be joining the lme conference tomorrow so am  currently trying to do \n",
    "a bit of reading in preparation .  thanks very much in advance & look forward to seeing the presentation over  here in london .  kind regards  alison\"\"\""
   ]
  },
  {
   "cell_type": "code",
   "execution_count": 12,
   "metadata": {
    "pycharm": {
     "is_executing": false
    }
   },
   "outputs": [
    {
     "data": {
      "text/plain": [
       "0.0"
      ]
     },
     "execution_count": 12,
     "metadata": {},
     "output_type": "execute_result"
    }
   ],
   "source": [
    "pred = predict_spam(not_spam, model , tokenizer)\n",
    "pred"
   ]
  },
  {
   "cell_type": "code",
   "execution_count": 13,
   "metadata": {
    "pycharm": {
     "is_executing": false
    }
   },
   "outputs": [],
   "source": [
    "not_spam = \"\"\"Hello Taylor, My name is Jordan Smith. I am the professor of Statistics for XYZ University. This message is for all current students.\"\"\""
   ]
  },
  {
   "cell_type": "code",
   "execution_count": 14,
   "metadata": {
    "pycharm": {
     "is_executing": false
    }
   },
   "outputs": [
    {
     "data": {
      "text/plain": [
       "0.00030375662"
      ]
     },
     "execution_count": 14,
     "metadata": {},
     "output_type": "execute_result"
    }
   ],
   "source": [
    "pred = predict_spam(not_spam, model , tokenizer)\n",
    "pred"
   ]
  },
  {
   "cell_type": "code",
   "execution_count": 15,
   "metadata": {
    "pycharm": {
     "is_executing": false
    }
   },
   "outputs": [],
   "source": [
    "spam = \"\"\"Subject: congratulations hpshum you \\' ve won !  congratulations !  official  notification  hpshum @ hotmail . com  you have been specially selected to register for a  \n",
    "florida / bahamas vacation !  you will enjoy :  8 days / 7 nights of lst class accomodations  valid for up to 4 travelers  rental car with  unlimited mileage  adult casino cruise  \n",
    "great florida attractions !  much much more . . .  click here !  ( limited availability )  to no longer receive this or any other offer from us , click here to unsubscribe .  \n",
    "[ bjk 9 ^ \" : } h & * tgobk 5 nkiys 5 ]\"\"\""
   ]
  },
  {
   "cell_type": "code",
   "execution_count": 16,
   "metadata": {
    "pycharm": {
     "is_executing": false
    }
   },
   "outputs": [
    {
     "data": {
      "text/plain": [
       "1.0"
      ]
     },
     "execution_count": 16,
     "metadata": {},
     "output_type": "execute_result"
    }
   ],
   "source": [
    "pred = predict_spam(spam, model , tokenizer)\n",
    "pred"
   ]
  },
  {
   "cell_type": "code",
   "execution_count": 17,
   "metadata": {
    "pycharm": {
     "is_executing": false
    }
   },
   "outputs": [],
   "source": [
    "not_spam = \"\"\"Subject: congratulations  vince ,  congratulations on your promotion to managing director . you certainly deserve  it .  zhiyong\n",
    "\"\"\""
   ]
  },
  {
   "cell_type": "code",
   "execution_count": 18,
   "metadata": {},
   "outputs": [
    {
     "data": {
      "text/plain": [
       "0.0"
      ]
     },
     "execution_count": 18,
     "metadata": {},
     "output_type": "execute_result"
    }
   ],
   "source": [
    "pred = predict_spam(not_spam, model , tokenizer)\n",
    "pred"
   ]
  },
  {
   "cell_type": "code",
   "execution_count": 19,
   "metadata": {},
   "outputs": [],
   "source": [
    "not_spam = \"\"\"you received a pending document view to confirm document\"\"\""
   ]
  },
  {
   "cell_type": "code",
   "execution_count": 20,
   "metadata": {},
   "outputs": [
    {
     "data": {
      "text/plain": [
       "0.0978353"
      ]
     },
     "execution_count": 20,
     "metadata": {},
     "output_type": "execute_result"
    }
   ],
   "source": [
    "pred = predict_spam(not_spam, model , tokenizer)\n",
    "pred"
   ]
  },
  {
   "cell_type": "code",
   "execution_count": 21,
   "metadata": {},
   "outputs": [],
   "source": [
    "not_spam = \"\"\"Dear Counsel,\n",
    "We acknowledge, with thanks, your email and the instructions contained therein. Our representative will collect the\n",
    "hard copy documents.\n",
    "We are proceeding to action the instructions and will keep you updated.\n",
    "With best regards,\n",
    "SF\n",
    "\"\"\""
   ]
  },
  {
   "cell_type": "code",
   "execution_count": 22,
   "metadata": {},
   "outputs": [
    {
     "data": {
      "text/plain": [
       "0.03185808"
      ]
     },
     "execution_count": 22,
     "metadata": {},
     "output_type": "execute_result"
    }
   ],
   "source": [
    "pred = predict_spam(not_spam, model , tokenizer)\n",
    "pred"
   ]
  },
  {
   "cell_type": "code",
   "execution_count": null,
   "metadata": {},
   "outputs": [],
   "source": []
  }
 ],
 "metadata": {
  "kernelspec": {
   "display_name": "Python 3",
   "language": "python",
   "name": "python3"
  },
  "language_info": {
   "codemirror_mode": {
    "name": "ipython",
    "version": 3
   },
   "file_extension": ".py",
   "mimetype": "text/x-python",
   "name": "python",
   "nbconvert_exporter": "python",
   "pygments_lexer": "ipython3",
   "version": "3.7.4"
  }
 },
 "nbformat": 4,
 "nbformat_minor": 2
}
